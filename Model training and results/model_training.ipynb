{
 "cells": [
  {
   "cell_type": "markdown",
   "id": "4ca22ec7",
   "metadata": {},
   "source": [
    "Descripción general del sistema de Speech Denoising\n",
    "\n",
    "El sistema está diseñado para realizar reducción de ruido en audio mediante técnicas de deep learning. La entrada del modelo corresponde al espectro de magnitudes de la señal de audio con ruido, mientras que la salida objetivo corresponde al espectro de magnitudes de la señal limpia. La red neuronal toma como entrada el espectro de magnitudes con ruido y estima el espectro de magnitudes de la señal denoised.\n",
    "El entrenamiento se realiza minimizando el error cuadrático medio (MSE) entre el espectro predicho y el espectro objetivo. La arquitectura de la red está compuesta por capas totalmente conectadas que procesan segmentos de la señal en el dominio frecuencia–tiempo.\n",
    "\n",
    "Tras la inferencia, la señal denoised se reconstruye en el dominio del tiempo combinando el espectro de magnitudes predicho con la información de fase original de la señal con ruido. Esta reconstrucción se lleva a cabo mediante la transformada rápida de Fourier inversa de ventana corta (ISTFT). El resultado es una forma de onda con el ruido significativamente reducido, y que se aproxima a la señal limpia de referencia."
   ]
  },
  {
   "cell_type": "code",
   "execution_count": 2,
   "id": "0226f673",
   "metadata": {},
   "outputs": [],
   "source": [
    "import sys\n",
    "import os\n",
    "\n",
    "sys.path.append(os.path.abspath(\"..\"))\n",
    "\n",
    "import Utils.model_utils"
   ]
  },
  {
   "cell_type": "code",
   "execution_count": null,
   "id": "cf891e45",
   "metadata": {},
   "outputs": [
    {
     "name": "stdout",
     "output_type": "stream",
     "text": [
      "Epoch 1/3 - Train Loss: 0.319473 - Val Loss: 0.137561\n",
      "Epoch 2/3 - Train Loss: 0.136529 - Val Loss: 0.093674\n",
      "Epoch 3/3 - Train Loss: 0.106347 - Val Loss: 0.077738\n"
     ]
    }
   ],
   "source": [
    "import torch\n",
    "\n",
    "window_size = 256\n",
    "model_params= {\"window_length\": window_size,\n",
    "\"overlap\": int(0.75 * window_size),\n",
    "\"fft_length\": window_size,\n",
    "\"num_features\": window_size // 2 + 1,\n",
    "\"num_segments\": 8,\n",
    "\"batch_size\": 128,\n",
    "\"epochs\": 3,\n",
    "\"lr\": 1e-5}\n",
    "\n",
    "device = torch.device(\"cuda\" if torch.cuda.is_available() else \"cpu\")\n",
    "\n",
    "clean_folder = \"../Audios/Dataset/dev-clean\"\n",
    "\n",
    "noisy_folder = \"../Audios/Augmented Audios 3 SNR\"\n",
    "\n",
    "noisy_segments_list, clean_segments_list = Utils.model_utils.initialize(model_params, clean_folder, noisy_folder)\n",
    "\n",
    "X, y, noisy_mean, noisy_std, clean_mean, clean_std = Utils.model_utils.batch_preprocessing(clean_segments_list, noisy_segments_list)\n",
    "\n",
    "model = Utils.model_utils.DenoiseNet(model_params[\"num_features\"], model_params[\"num_segments\"]).to(device)\n",
    "\n",
    "train_loader, val_loader = Utils.model_utils.dataset_split(X, y)\n"
   ]
  },
  {
   "cell_type": "code",
   "execution_count": null,
   "id": "6d08e109",
   "metadata": {},
   "outputs": [],
   "source": [
    "trained_model = Utils.model_utils.train_model(model, model_params[\"epochs\"], model_params, train_loader, val_loader)"
   ]
  },
  {
   "cell_type": "code",
   "execution_count": null,
   "id": "63a43568",
   "metadata": {},
   "outputs": [
    {
     "name": "stdout",
     "output_type": "stream",
     "text": [
      "\n"
     ]
    }
   ],
   "source": [
    "model_data = {\n",
    "    \"model_state\": model.state_dict(),\n",
    "    \"model_params\": model_params,\n",
    "    \"normalization\": {\"noisy_mean\": noisy_mean, \"noisy_std\": noisy_std, \"clean_mean\": clean_mean, \"clean_std\": clean_std},\n",
    "    \"other_info\": \"Modelo entrenado con dataset LibriSpeech\"\n",
    "}\n",
    "\n",
    "torch.save(model_data, \"denoise_checkpoint.pth\")\n",
    "\n",
    "print(f\"model saved\")\n"
   ]
  }
 ],
 "metadata": {
  "kernelspec": {
   "display_name": "speech_noise_reduction",
   "language": "python",
   "name": "python3"
  },
  "language_info": {
   "codemirror_mode": {
    "name": "ipython",
    "version": 3
   },
   "file_extension": ".py",
   "mimetype": "text/x-python",
   "name": "python",
   "nbconvert_exporter": "python",
   "pygments_lexer": "ipython3",
   "version": "3.11.13"
  }
 },
 "nbformat": 4,
 "nbformat_minor": 5
}
