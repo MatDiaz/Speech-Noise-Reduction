{
 "cells": [
  {
   "cell_type": "code",
   "execution_count": 2,
   "id": "7d297309",
   "metadata": {},
   "outputs": [
    {
     "name": "stderr",
     "output_type": "stream",
     "text": [
      "/var/folders/9n/xs76t_gx4knbv1_tl_d8gp940000gn/T/ipykernel_32907/588429505.py:9: FutureWarning: You are using `torch.load` with `weights_only=False` (the current default value), which uses the default pickle module implicitly. It is possible to construct malicious pickle data which will execute arbitrary code during unpickling (See https://github.com/pytorch/pytorch/blob/main/SECURITY.md#untrusted-models for more details). In a future release, the default value for `weights_only` will be flipped to `True`. This limits the functions that could be executed during unpickling. Arbitrary objects will no longer be allowed to be loaded via this mode unless they are explicitly allowlisted by the user via `torch.serialization.add_safe_globals`. We recommend you start setting `weights_only=True` for any use case where you don't have full control of the loaded file. Please open an issue on GitHub for any issues related to this experimental feature.\n",
      "  model = torch.load(\"denoise_model_complete.pth\", map_location=torch.device(\"cpu\"))\n"
     ]
    },
    {
     "data": {
      "text/plain": [
       "DenoiseNet(\n",
       "  (flatten): Flatten(start_dim=1, end_dim=-1)\n",
       "  (fc1): Linear(in_features=1032, out_features=1024, bias=True)\n",
       "  (bn1): BatchNorm1d(1024, eps=1e-05, momentum=0.1, affine=True, track_running_stats=True)\n",
       "  (fc2): Linear(in_features=1024, out_features=1024, bias=True)\n",
       "  (bn2): BatchNorm1d(1024, eps=1e-05, momentum=0.1, affine=True, track_running_stats=True)\n",
       "  (fc3): Linear(in_features=1024, out_features=129, bias=True)\n",
       ")"
      ]
     },
     "execution_count": 2,
     "metadata": {},
     "output_type": "execute_result"
    }
   ],
   "source": [
    "import sys\n",
    "import os\n",
    "\n",
    "sys.path.append(os.path.abspath(\"..\"))\n",
    "\n",
    "import Utils.model_setup\n",
    "import torch\n",
    "\n",
    "model = torch.load(\"denoise_model_complete.pth\", map_location=torch.device(\"cpu\"))\n",
    "model.eval()"
   ]
  },
  {
   "cell_type": "code",
   "execution_count": 10,
   "id": "a3b19d0d",
   "metadata": {},
   "outputs": [
    {
     "name": "stdout",
     "output_type": "stream",
     "text": [
      "Audios guardados: noisy.wav y denoised.wav\n"
     ]
    }
   ],
   "source": [
    "import torchaudio\n",
    "import torch\n",
    "from pathlib import Path\n",
    "\n",
    "window_size = 256\n",
    "window_length= window_size\n",
    "overlap= int(0.75 * window_size)\n",
    "fft_length= window_size\n",
    "num_features= window_size // 2 + 1\n",
    "num_segments= 8\n",
    "batch_size= 128\n",
    "epochs= 3\n",
    "lr= 1e-5\n",
    "\n",
    "device = torch.device(\"cuda\" if torch.cuda.is_available() else \"cpu\")\n",
    "window = torch.hamming_window(window_length, periodic=True)\n",
    "\n",
    "\n",
    "def denoise_audio(model, noisy_waveform):\n",
    "    model.eval()\n",
    "    noisy_waveform = noisy_waveform.to(device)\n",
    "\n",
    "    # STFT del audio ruidoso\n",
    "    noisy_stft = torch.stft(noisy_waveform.squeeze(), n_fft=fft_length,\n",
    "                            hop_length=window_length - overlap,\n",
    "                            window=window, return_complex=True)\n",
    "    noisy_mag = noisy_stft.abs()\n",
    "    noisy_phase = noisy_stft.angle()\n",
    "\n",
    "\n",
    "    # Segmentar magnitudes\n",
    "    padded = torch.cat([noisy_mag[:, :num_segments-1], noisy_mag], dim=1)\n",
    "    segments = []\n",
    "    for i in range(noisy_mag.shape[1]):\n",
    "        seg = padded[:, i:i+num_segments]\n",
    "        segments.append(seg.unsqueeze(0))\n",
    "    X_proc = torch.stack(segments, dim=0).unsqueeze(1).to(device)\n",
    "\n",
    "    with torch.no_grad():\n",
    "        preds = model(X_proc)\n",
    "    preds = preds.cpu()\n",
    "\n",
    "    clean_mag_est = preds.T\n",
    "\n",
    "    clean_stft_est = torch.polar(clean_mag_est, noisy_phase)\n",
    "\n",
    "\n",
    "    clean_waveform = torch.istft(clean_stft_est, n_fft=fft_length,\n",
    "                                 hop_length=window_length - overlap,\n",
    "                                 window=window.cpu())\n",
    "\n",
    "    return clean_waveform\n",
    "\n",
    "noisy_folder = \"../Audios/Augmented Audios 3 SNR\"\n",
    "noisy_audios = list(Path(noisy_folder).rglob('*.flac'))\n",
    "noisy_input = torchaudio.load(noisy_audios[3])\n",
    "\n",
    "denoised_output = denoise_audio(model, noisy_input[0])\n",
    "\n",
    "# Guardar resultados\n",
    "torchaudio.save(\"noisy.wav\", noisy_input[0].cpu(), 8000)\n",
    "torchaudio.save(\"denoised.wav\", denoised_output.unsqueeze(0).cpu(), 8000)\n",
    "\n",
    "print(\"Audios guardados: noisy.wav y denoised.wav\")"
   ]
  }
 ],
 "metadata": {
  "kernelspec": {
   "display_name": "speech_noise_reduction",
   "language": "python",
   "name": "python3"
  },
  "language_info": {
   "codemirror_mode": {
    "name": "ipython",
    "version": 3
   },
   "file_extension": ".py",
   "mimetype": "text/x-python",
   "name": "python",
   "nbconvert_exporter": "python",
   "pygments_lexer": "ipython3",
   "version": "3.11.13"
  }
 },
 "nbformat": 4,
 "nbformat_minor": 5
}
